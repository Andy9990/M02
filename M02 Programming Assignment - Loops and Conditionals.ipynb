{
 "cells": [
  {
   "cell_type": "code",
   "execution_count": null,
   "id": "6a72f905-3ddd-4260-8a23-8eee8faaf59e",
   "metadata": {},
   "outputs": [],
   "source": [
    "secret = 9\n",
    "guess = 7\n",
    "if guess < secret:\n",
    "    print (\"too low\")\n",
    "elif guess > secret:\n",
    "    print (\"too high\")\n",
    "else :\n",
    "    print (\"just right\")"
   ]
  },
  {
   "cell_type": "code",
   "execution_count": null,
   "id": "0c6b94f3-98ac-498d-bd1d-af1838a3d725",
   "metadata": {},
   "outputs": [],
   "source": [
    "small = True\n",
    "green = False\n",
    "if small and green:\n",
    "    print('pea')\n",
    "elif small and not green:\n",
    "    print('cherry')\n",
    "elif not small and green:\n",
    "    print('watermelon')\n",
    "elif not small and not green:\n",
    "    print('pumpkin')"
   ]
  },
  {
   "cell_type": "code",
   "execution_count": null,
   "id": "c98fd210-67c2-499a-9661-cbea1913f128",
   "metadata": {},
   "outputs": [],
   "source": [
    "my_list = [3, 2, 1, 0]\n",
    "for item in my_list:\n",
    "    print(item)"
   ]
  },
  {
   "cell_type": "code",
   "execution_count": null,
   "id": "3e163435-9a7b-4d2b-b1ac-3687a2122d2e",
   "metadata": {},
   "outputs": [],
   "source": [
    "guess_me = 7\n",
    "number = 1\n",
    "while True:\n",
    "    if number < guess_me:\n",
    "        print('too low')\n",
    "    elif number == guess_me:\n",
    "        print('found it!')\n",
    "        break\n",
    "    else:\n",
    "        print('oops')\n",
    "        break\n",
    "    number += 1\n",
    "    \n"
   ]
  },
  {
   "cell_type": "code",
   "execution_count": null,
   "id": "e5fcfe27-7bd3-48cf-b08e-7074b33cd220",
   "metadata": {},
   "outputs": [],
   "source": [
    "guess_me = 5\n",
    "for number in range(10):\n",
    "    if number < guess_me:\n",
    "        print('too low')\n",
    "    elif number == guess_me:\n",
    "        print('found it!')\n",
    "        break\n",
    "    else:\n",
    "        print('oops')\n",
    "        break"
   ]
  }
 ],
 "metadata": {
  "kernelspec": {
   "display_name": "Python 3 (ipykernel)",
   "language": "python",
   "name": "python3"
  },
  "language_info": {
   "codemirror_mode": {
    "name": "ipython",
    "version": 3
   },
   "file_extension": ".py",
   "mimetype": "text/x-python",
   "name": "python",
   "nbconvert_exporter": "python",
   "pygments_lexer": "ipython3",
   "version": "3.11.7"
  }
 },
 "nbformat": 4,
 "nbformat_minor": 5
}
